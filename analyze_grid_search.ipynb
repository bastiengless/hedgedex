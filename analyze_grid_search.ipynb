{
 "cells": [
  {
   "cell_type": "markdown",
   "metadata": {},
   "source": [
    "# Analyze Grid Search Results\n",
    "\n",
    "Now that grid search is performed, look into the results, to find the best model, and understand the influence of every hyperparameter\n"
   ]
  },
  {
   "cell_type": "code",
   "execution_count": 1,
   "metadata": {},
   "outputs": [],
   "source": [
    "# Imports\n",
    "import matplotlib.pyplot as plt\n",
    "import numpy as np\n",
    "import pandas as pd\n",
    "import os"
   ]
  },
  {
   "cell_type": "code",
   "execution_count": 2,
   "metadata": {},
   "outputs": [],
   "source": [
    "# Given a csv file name, return the final value of 'Jaccard index' column\n",
    "\n",
    "def get_final_jaccard_index(csv_file):\n",
    "    df = pd.read_csv(csv_file)\n",
    "    return df['Jaccard index'].iloc[-1]"
   ]
  },
  {
   "cell_type": "code",
   "execution_count": 3,
   "metadata": {},
   "outputs": [],
   "source": [
    "# Given a csv file name, return the highest value of 'Jaccard index' column\n",
    "\n",
    "def get_highest_jaccard_index(csv_file):\n",
    "    df = pd.read_csv(csv_file)\n",
    "    return df['Jaccard index'].max()"
   ]
  },
  {
   "cell_type": "code",
   "execution_count": 4,
   "metadata": {},
   "outputs": [],
   "source": [
    "# Given a csv file name, return the last and highest value of 'Jaccard index' column\n",
    "\n",
    "def get_last_and_highest_jaccard_index(csv_file):\n",
    "    df = pd.read_csv(csv_file)\n",
    "    return df['Jaccard index'].iloc[-1], df['Jaccard index'].max()"
   ]
  },
  {
   "cell_type": "code",
   "execution_count": 39,
   "metadata": {},
   "outputs": [],
   "source": [
    "# Given a root directory, build a df containing the final and highest Jaccard index for each csv file, and parse the csv file names to get the parameters used in the experiment\n",
    "\n",
    "def build_df(root_dir):\n",
    "    data = []\n",
    "    for root, dirs, files in os.walk(root_dir):\n",
    "        for file in files:\n",
    "            if file.endswith('.csv'):\n",
    "                csv_file = os.path.join(root, file)\n",
    "                final_jaccard_index = get_final_jaccard_index(csv_file)\n",
    "                highest_jaccard_index = get_highest_jaccard_index(csv_file)\n",
    "                #last_and_highest_jaccard_index = get_last_and_highest_jaccard_index(csv_file)\n",
    "                file_name = os.path.basename(csv_file)\n",
    "                parameters = file_name.split('_')\n",
    "                data.append([parameters[1], int(parameters[2][2:]), float(parameters[3][2:]), int(parameters[4][6:]), int(parameters[5][5:]), parameters[6], final_jaccard_index, highest_jaccard_index, file_name])\n",
    "    df = pd.DataFrame(data, columns=['Job ID', 'Batch Size', 'Learning Rate', 'N Epochs', 'N Bands', 'Loss', 'Final Jaccard index', 'Highest Jaccard index', 'File Name'])\n",
    "    return df"
   ]
  },
  {
   "cell_type": "code",
   "execution_count": 40,
   "metadata": {},
   "outputs": [],
   "source": [
    "gridsearch_results = build_df('hedgedexv2.5/output/metrics/')"
   ]
  },
  {
   "cell_type": "code",
   "execution_count": 37,
   "metadata": {},
   "outputs": [
    {
     "name": "stdout",
     "output_type": "stream",
     "text": [
      "       Job ID  Batch Size  Learning Rate  N Epochs  N Bands     Loss  \\\n",
      "115  42827545           8         0.0002       100        5  jaccard   \n",
      "109  42827553           8         0.0010       100        5  jaccard   \n",
      "81   42827557           8         0.0020       100        5  jaccard   \n",
      "93   42438730          16         0.0010       100        5  jaccard   \n",
      "131  42827551          16         0.0005       100        5  jaccard   \n",
      "172  42827549           8         0.0005       100        5  jaccard   \n",
      "39   42827555          16         0.0010       100        5  jaccard   \n",
      "169  42827558           8         0.0020       100        9  jaccard   \n",
      "14   42827541           8         0.0001       100        5  jaccard   \n",
      "133  42827566           8         0.0100       100        9  jaccard   \n",
      "\n",
      "     Final Jaccard index  Highest Jaccard index  \\\n",
      "115             0.494172               0.494336   \n",
      "109             0.491948               0.491948   \n",
      "81              0.491524               0.492192   \n",
      "93              0.491426               0.493390   \n",
      "131             0.490649               0.493025   \n",
      "172             0.489686               0.491523   \n",
      "39              0.489441               0.492986   \n",
      "169             0.489351               0.492438   \n",
      "14              0.489342               0.491003   \n",
      "133             0.489066               0.489066   \n",
      "\n",
      "                                             File Name  \n",
      "115  metrics_42827545_bs8_lr0.0002_epochs100_bands5...  \n",
      "109  metrics_42827553_bs8_lr0.001_epochs100_bands5_...  \n",
      "81   metrics_42827557_bs8_lr0.002_epochs100_bands5_...  \n",
      "93   metrics_42438730_bs16_lr0.001_epochs100_bands5...  \n",
      "131  metrics_42827551_bs16_lr0.0005_epochs100_bands...  \n",
      "172  metrics_42827549_bs8_lr0.0005_epochs100_bands5...  \n",
      "39   metrics_42827555_bs16_lr0.001_epochs100_bands5...  \n",
      "169  metrics_42827558_bs8_lr0.002_epochs100_bands9_...  \n",
      "14   metrics_42827541_bs8_lr0.0001_epochs100_bands5...  \n",
      "133  metrics_42827566_bs8_lr0.01_epochs100_bands9_j...  \n"
     ]
    }
   ],
   "source": [
    "print(gridsearch_results.head(10))"
   ]
  },
  {
   "cell_type": "code",
   "execution_count": 12,
   "metadata": {},
   "outputs": [],
   "source": [
    "# Order the df by job id\n",
    "gridsearch_results = gridsearch_results.sort_values(by='Job ID')"
   ]
  },
  {
   "cell_type": "code",
   "execution_count": 41,
   "metadata": {},
   "outputs": [],
   "source": [
    "# Order by final Jaccard index\n",
    "gridsearch_results = gridsearch_results.sort_values(by='Final Jaccard index', ascending=False)"
   ]
  },
  {
   "cell_type": "code",
   "execution_count": 44,
   "metadata": {},
   "outputs": [
    {
     "name": "stderr",
     "output_type": "stream",
     "text": [
      "/var/folders/43/75qpcr_j493d41yfc1818jrr0000gn/T/ipykernel_1606/1883482128.py:2: FutureWarning: The provided callable <function max at 0x10a953600> is currently using DataFrameGroupBy.max. In a future version of pandas, the provided callable will be used directly. To keep current behavior pass the string \"max\" instead.\n",
      "  heatmap = gridsearch_results.pivot_table(index='Batch Size', columns='Learning Rate', values='Final Jaccard index', aggfunc=np.max)\n"
     ]
    },
    {
     "data": {
      "image/png": "[encoded data removed]",
      "text/plain": [
       "<Figure size 1000x700 with 2 Axes>"
      ]
     },
     "metadata": {},
     "output_type": "display_data"
    }
   ],
   "source": [
    "# Plot a heatmap of the highest Jaccard index for each combination of batch size and learning rate\n",
    "heatmap = gridsearch_results.pivot_table(index='Batch Size', columns='Learning Rate', values='Final Jaccard index', aggfunc=np.max)\n",
    "# Replace NaN values with 0\n",
    "heatmap = heatmap.fillna(0.45)\n",
    "\n",
    "plt.figure(figsize=(10, 7))\n",
    "plt.title('Final Jaccard index')\n",
    "plt.xlabel('Learning Rate')\n",
    "plt.ylabel('Batch Size')\n",
    "plt.xticks(range(len(heatmap.columns)), heatmap.columns)\n",
    "plt.yticks(range(len(heatmap.index)), heatmap.index)\n",
    "plt.imshow(heatmap, cmap='hot', interpolation='nearest')\n",
    "plt.colorbar()\n",
    "plt.show()\n"
   ]
  },
  {
   "cell_type": "code",
   "execution_count": 45,
   "metadata": {},
   "outputs": [
    {
     "name": "stdout",
     "output_type": "stream",
     "text": [
      "Learning Rate    0.0001    0.0002    0.0005    0.0010    0.0020    0.0050  \\\n",
      "Batch Size                                                                  \n",
      "4              0.450000  0.450000  0.450000  0.486807  0.450000  0.450000   \n",
      "8              0.489342  0.494172  0.489686  0.491948  0.491524  0.484716   \n",
      "16             0.484405  0.487788  0.490649  0.491426  0.486026  0.479363   \n",
      "\n",
      "Learning Rate    0.0100    0.1000  \n",
      "Batch Size                         \n",
      "4              0.484438  0.456741  \n",
      "8              0.489066  0.467550  \n",
      "16             0.486342  0.467361  \n"
     ]
    }
   ],
   "source": [
    "print(heatmap)\n"
   ]
  },
  {
   "cell_type": "code",
   "execution_count": 38,
   "metadata": {},
   "outputs": [],
   "source": [
    "# Delete all files with jaccard loss and job ID < 42438650\n",
    "for root, dirs, files in os.walk('hedgedexv2.5/output/metrics/'):\n",
    "    for file in files:\n",
    "        if file.endswith('.csv'):\n",
    "            csv_file = os.path.join(root, file)\n",
    "            file_name = os.path.basename(csv_file)\n",
    "            parameters = file_name.split('_')\n",
    "            job_id = int(parameters[1])\n",
    "            loss = parameters[6]\n",
    "            if job_id < 42438650 and loss == 'jaccard':\n",
    "                os.remove(csv_file)"
   ]
  },
  {
   "cell_type": "code",
   "execution_count": 29,
   "metadata": {},
   "outputs": [],
   "source": [
    "# Compare results with bce and results with jaccard\n",
    "bce_results = gridsearch_results[gridsearch_results['Loss'] == 'bce']\n",
    "jaccard_results = gridsearch_results[gridsearch_results['Loss'] == 'jaccard']"
   ]
  },
  {
   "cell_type": "code",
   "execution_count": 34,
   "metadata": {},
   "outputs": [
    {
     "name": "stdout",
     "output_type": "stream",
     "text": [
      "       Job ID  Batch Size  Learning Rate  N Epochs  N Bands Loss  \\\n",
      "97   41497568          16          0.001       100        5  bce   \n",
      "12   41497549          16          0.010       100        5  bce   \n",
      "76   41497543           8          0.010       100        5  bce   \n",
      "102  41497562           8          0.001       100        5  bce   \n",
      "65   41497564           8          0.001       100        9  bce   \n",
      "\n",
      "     Final Jaccard index  Highest Jaccard index  \\\n",
      "97              0.421293               0.421293   \n",
      "12              0.415948               0.416770   \n",
      "76              0.411004               0.416313   \n",
      "102             0.404534               0.414585   \n",
      "65              0.410361               0.410361   \n",
      "\n",
      "                                             File Name  \n",
      "97   metrics_41497568_bs16_lr0.001_epochs100_bands5...  \n",
      "12   metrics_41497549_bs16_lr0.01_epochs100_bands5_...  \n",
      "76   metrics_41497543_bs8_lr0.01_epochs100_bands5_b...  \n",
      "102  metrics_41497562_bs8_lr0.001_epochs100_bands5_...  \n",
      "65   metrics_41497564_bs8_lr0.001_epochs100_bands9_...  \n",
      "      Job ID  Batch Size  Learning Rate  N Epochs  N Bands     Loss  \\\n",
      "39  42438719           4          0.001       100        9  jaccard   \n",
      "64  42438731          16          0.001       100        9  jaccard   \n",
      "59  42438730          16          0.001       100        5  jaccard   \n",
      "17  42438725           8          0.001       100        9  jaccard   \n",
      "72  42438713          16          0.010       100        9  jaccard   \n",
      "\n",
      "    Final Jaccard index  Highest Jaccard index  \\\n",
      "39             0.485311               0.494490   \n",
      "64             0.430623               0.494441   \n",
      "59             0.491426               0.493390   \n",
      "17             0.478104               0.492603   \n",
      "72             0.486342               0.492046   \n",
      "\n",
      "                                            File Name  \n",
      "39  metrics_42438719_bs4_lr0.001_epochs100_bands9_...  \n",
      "64  metrics_42438731_bs16_lr0.001_epochs100_bands9...  \n",
      "59  metrics_42438730_bs16_lr0.001_epochs100_bands5...  \n",
      "17  metrics_42438725_bs8_lr0.001_epochs100_bands9_...  \n",
      "72  metrics_42438713_bs16_lr0.01_epochs100_bands9_...  \n"
     ]
    }
   ],
   "source": [
    "print(bce_results.head())\n",
    "print(jaccard_results.head())"
   ]
  },
  {
   "cell_type": "code",
   "execution_count": 46,
   "metadata": {},
   "outputs": [],
   "source": [
    "# Compare 3, 5, 9 bands in the original dataset\n",
    "three_bands = gridsearch_results[gridsearch_results['N Bands'] == 3]\n",
    "five_bands = gridsearch_results[gridsearch_results['N Bands'] == 5]\n",
    "nine_bands = gridsearch_results[gridsearch_results['N Bands'] == 9]\n"
   ]
  },
  {
   "cell_type": "code",
   "execution_count": 47,
   "metadata": {},
   "outputs": [
    {
     "name": "stdout",
     "output_type": "stream",
     "text": [
      "       Job ID  Batch Size  Learning Rate  N Epochs  N Bands     Loss  \\\n",
      "100  42438711          16          0.010       100        3  jaccard   \n",
      "91   42438723           8          0.001       100        3  jaccard   \n",
      "66   42438717           4          0.001       100        3  jaccard   \n",
      "48   42438699           4          0.010       100        3  jaccard   \n",
      "68   42438720           8          0.001        20        3  jaccard   \n",
      "\n",
      "     Final Jaccard index  Highest Jaccard index  \\\n",
      "100             0.470011               0.470833   \n",
      "91              0.465956               0.477450   \n",
      "66              0.465058               0.475547   \n",
      "48              0.464769               0.467175   \n",
      "68              0.463800               0.464267   \n",
      "\n",
      "                                             File Name  \n",
      "100  metrics_42438711_bs16_lr0.01_epochs100_bands3_...  \n",
      "91   metrics_42438723_bs8_lr0.001_epochs100_bands3_...  \n",
      "66   metrics_42438717_bs4_lr0.001_epochs100_bands3_...  \n",
      "48   metrics_42438699_bs4_lr0.01_epochs100_bands3_j...  \n",
      "68   metrics_42438720_bs8_lr0.001_epochs20_bands3_j...  \n",
      "      Job ID  Batch Size  Learning Rate  N Epochs  N Bands     Loss  \\\n",
      "86  42827545           8         0.0002       100        5  jaccard   \n",
      "81  42827553           8         0.0010       100        5  jaccard   \n",
      "59  42827557           8         0.0020       100        5  jaccard   \n",
      "69  42438730          16         0.0010       100        5  jaccard   \n",
      "97  42827551          16         0.0005       100        5  jaccard   \n",
      "\n",
      "    Final Jaccard index  Highest Jaccard index  \\\n",
      "86             0.494172               0.494336   \n",
      "81             0.491948               0.491948   \n",
      "59             0.491524               0.492192   \n",
      "69             0.491426               0.493390   \n",
      "97             0.490649               0.493025   \n",
      "\n",
      "                                            File Name  \n",
      "86  metrics_42827545_bs8_lr0.0002_epochs100_bands5...  \n",
      "81  metrics_42827553_bs8_lr0.001_epochs100_bands5_...  \n",
      "59  metrics_42827557_bs8_lr0.002_epochs100_bands5_...  \n",
      "69  metrics_42438730_bs16_lr0.001_epochs100_bands5...  \n",
      "97  metrics_42827551_bs16_lr0.0005_epochs100_bands...  \n",
      "       Job ID  Batch Size  Learning Rate  N Epochs  N Bands     Loss  \\\n",
      "127  42827558           8         0.0020       100        9  jaccard   \n",
      "99   42827566           8         0.0100       100        9  jaccard   \n",
      "116  42827546           8         0.0002       100        9  jaccard   \n",
      "89   42438713          16         0.0100       100        9  jaccard   \n",
      "122  42827560          16         0.0020       100        9  jaccard   \n",
      "\n",
      "     Final Jaccard index  Highest Jaccard index  \\\n",
      "127             0.489351               0.492438   \n",
      "99              0.489066               0.489066   \n",
      "116             0.489019               0.493076   \n",
      "89              0.486342               0.492046   \n",
      "122             0.486026               0.492589   \n",
      "\n",
      "                                             File Name  \n",
      "127  metrics_42827558_bs8_lr0.002_epochs100_bands9_...  \n",
      "99   metrics_42827566_bs8_lr0.01_epochs100_bands9_j...  \n",
      "116  metrics_42827546_bs8_lr0.0002_epochs100_bands9...  \n",
      "89   metrics_42438713_bs16_lr0.01_epochs100_bands9_...  \n",
      "122  metrics_42827560_bs16_lr0.002_epochs100_bands9...  \n"
     ]
    }
   ],
   "source": [
    "print(three_bands.head())\n",
    "print(five_bands.head())\n",
    "print(nine_bands.head())"
   ]
  },
  {
   "cell_type": "code",
   "execution_count": null,
   "metadata": {},
   "outputs": [],
   "source": []
  }
 ],
 "metadata": {
  "kernelspec": {
   "display_name": "ENV",
   "language": "python",
   "name": "python3"
  },
  "language_info": {
   "codemirror_mode": {
    "name": "ipython",
    "version": 3
   },
   "file_extension": ".py",
   "mimetype": "text/x-python",
   "name": "python",
   "nbconvert_exporter": "python",
   "pygments_lexer": "ipython3",
   "version": "3.12.3"
  }
 },
 "nbformat": 4,
 "nbformat_minor": 2
}
